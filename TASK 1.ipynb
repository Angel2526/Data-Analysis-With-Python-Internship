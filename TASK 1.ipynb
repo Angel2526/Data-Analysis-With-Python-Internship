{
 "cells": [
  {
   "cell_type": "markdown",
   "id": "03635189",
   "metadata": {},
   "source": [
    "# Understanding Python Data Types "
   ]
  },
  {
   "cell_type": "markdown",
   "id": "954d7cb7",
   "metadata": {},
   "source": [
    "# Description:"
   ]
  },
  {
   "cell_type": "code",
   "execution_count": 1,
   "id": "21002a8d",
   "metadata": {},
   "outputs": [],
   "source": [
    "# This task involves understanding the basic datatypes in Python such as lists, dictionaries, and sets."
   ]
  },
  {
   "cell_type": "markdown",
   "id": "7a8dbc0e",
   "metadata": {},
   "source": [
    "# Write a Python program to create a list, a dictionary, and a set. Perform basic operations like adding, removing, and modifying elements."
   ]
  },
  {
   "cell_type": "markdown",
   "id": "c16461c2",
   "metadata": {},
   "source": [
    "# LIST"
   ]
  },
  {
   "cell_type": "code",
   "execution_count": 2,
   "id": "24036773",
   "metadata": {},
   "outputs": [],
   "source": [
    "# A list is an ordered collection of items which can be of any type.\n",
    "# mutable\n",
    "# Allow duplicates"
   ]
  },
  {
   "cell_type": "code",
   "execution_count": 3,
   "id": "9b840d92",
   "metadata": {},
   "outputs": [
    {
     "name": "stdout",
     "output_type": "stream",
     "text": [
      "Updated List :  ['apple', 'banana', 'kiwi', 'mango', 'blueberry']\n"
     ]
    }
   ],
   "source": [
    "# Creating a List\n",
    "\n",
    "my_list = [\"apple\", \"banana\", \"cherry\", \"Grapes\", \"mango\"]\n",
    "\n",
    "# Adding an element to the list using append\n",
    "\n",
    "my_list.append(\"blueberry\") \n",
    "\n",
    "# Removing an element from the list using remove\n",
    "\n",
    "my_list.remove(\"cherry\")\n",
    "\n",
    "#Modifying an element in the list \n",
    "\n",
    "my_list[2] = \"kiwi\"\n",
    "\n",
    "print(\"Updated List : \", my_list)\n",
    "    "
   ]
  },
  {
   "cell_type": "markdown",
   "id": "42bcba89",
   "metadata": {},
   "source": [
    "# DICTIONARY"
   ]
  },
  {
   "cell_type": "code",
   "execution_count": 4,
   "id": "ebdc5711",
   "metadata": {},
   "outputs": [],
   "source": [
    "# A dictionary is an unordered collection of items where each item is a key-value pair.\n",
    "# Mutable"
   ]
  },
  {
   "cell_type": "code",
   "execution_count": 5,
   "id": "1206fc5d",
   "metadata": {},
   "outputs": [
    {
     "name": "stdout",
     "output_type": "stream",
     "text": [
      "Updated Dictionary :  {'name': 'Angel', 'city': 'Ernakulam', 'gender': 'Female'}\n"
     ]
    }
   ],
   "source": [
    "# Creating a  Dictionary\n",
    "\n",
    "my_dict = {\"name\": \"Angel\", \"age\": 22, \"city\": \"Kochi\"}\n",
    "\n",
    "#Adding an item to the dictionary\n",
    "\n",
    "my_dict[\"gender\"] = \"Female\"\n",
    "\n",
    "# Removing an item from dictionary using del\n",
    "\n",
    "del my_dict[\"age\"]\n",
    "\n",
    "# modifying an element in dictionary\n",
    "\n",
    "my_dict[\"city\"] =\"Ernakulam\"\n",
    "\n",
    "print(\"Updated Dictionary : \" , my_dict)"
   ]
  },
  {
   "cell_type": "markdown",
   "id": "f715fd5c",
   "metadata": {},
   "source": [
    "# SET"
   ]
  },
  {
   "cell_type": "code",
   "execution_count": 6,
   "id": "c0136306",
   "metadata": {},
   "outputs": [],
   "source": [
    "# A set is an unordered collection of unique items. \n",
    "# Mutable\n",
    "# cannot contain duplicate elements"
   ]
  },
  {
   "cell_type": "code",
   "execution_count": 7,
   "id": "1be2f4f6",
   "metadata": {},
   "outputs": [
    {
     "name": "stdout",
     "output_type": "stream",
     "text": [
      "Updated Set :  {'watermelon', 'cherry', 'apple', 'Blueberry', 'stawberry', 'kiwi'}\n"
     ]
    }
   ],
   "source": [
    "# Creating a set\n",
    "\n",
    "my_set = {'apple', 'banana', 'cherry' ,'Blueberry', 'orange' ,'stawberry'}\n",
    "\n",
    "# Adding  an element to the set  using add\n",
    "\n",
    "my_set.add('kiwi')\n",
    "\n",
    "# Removing an element from the set using remove\n",
    "\n",
    "my_set.remove('banana')\n",
    "\n",
    "# Modifying an element in the set\n",
    " \n",
    "my_set.add('watermelon')\n",
    "my_set.discard('orange')\n",
    " \n",
    "print(\"Updated Set : \", my_set)"
   ]
  }
 ],
 "metadata": {
  "kernelspec": {
   "display_name": "Python 3 (ipykernel)",
   "language": "python",
   "name": "python3"
  },
  "language_info": {
   "codemirror_mode": {
    "name": "ipython",
    "version": 3
   },
   "file_extension": ".py",
   "mimetype": "text/x-python",
   "name": "python",
   "nbconvert_exporter": "python",
   "pygments_lexer": "ipython3",
   "version": "3.9.7"
  }
 },
 "nbformat": 4,
 "nbformat_minor": 5
}
